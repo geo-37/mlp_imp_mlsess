{
 "cells": [
  {
   "cell_type": "code",
   "execution_count": 1,
   "metadata": {},
   "outputs": [
    {
     "name": "stdout",
     "output_type": "stream",
     "text": [
      "(60000, 784) 2 47040000\n",
      "(60000,) 1 60000\n"
     ]
    }
   ],
   "source": [
    "#written by: Gio\n",
    "\n",
    "#Import datasets\n",
    "from utils import mnist_reader\n",
    "X_train, Y_train = mnist_reader.load_mnist('data/fashion', kind='train')\n",
    "X_test, Y_test = mnist_reader.load_mnist('data/fashion', kind='t10k')\n",
    "print(X_train.shape, X_train.ndim, X_train.size)\n",
    "print(Y_train.shape, Y_train.ndim, Y_train.size)\n",
    "\n",
    "numberOfClass = 10"
   ]
  },
  {
   "cell_type": "code",
   "execution_count": 2,
   "metadata": {},
   "outputs": [],
   "source": [
    "#Neural Network Class (MLP)\n",
    "import numpy as np\n",
    "import scipy.special\n",
    "import copy\n",
    "class myNeuralNet:\n",
    "    #Initialization of instance variables for a multilayer perceptron\n",
    "    def __init__(self, nodes, learning_rate):\n",
    "        # define sigmoid activation function\n",
    "        self.nodes = nodes\n",
    "        self.learning_rate = learning_rate\n",
    "        self.weights = []\n",
    "        for idx in range(len(self.nodes)-1):\n",
    "            self.weights.append(np.random.rand(self.nodes[idx+1], self.nodes[idx])-0.5)\n",
    "        \n",
    "        self.gd_saved_weights = []\n",
    "        for idx in range(len(self.nodes)-1):\n",
    "            self.gd_saved_weights.append(np.zeros((self.nodes[idx+1], self.nodes[idx])))\n",
    "    \n",
    "    #Instance method defining activation function used in the multilayer perceptron\n",
    "    def activation(self, e):\n",
    "        #sigmoid = 1.0/(1.0+np.exp(-e))\n",
    "        sigmoid = lambda e: scipy.special.expit(e)\n",
    "        return sigmoid(e) \n",
    "    \n",
    "    #Instance method for the propagation of the input values to the output values of the neural network\n",
    "    def predict(self, in_list):\n",
    "        in_data = np.array(in_list, ndmin=2).T\n",
    "        #print(in_data.shape)\n",
    "        current_output = in_data\n",
    "        for weight in self.weights:\n",
    "            current_output = self._forward(weight, current_output)\n",
    "        return current_output\n",
    "    \n",
    "    #Instance method that propagates values from one layer to the next\n",
    "    def _forward(self, weight, layer):\n",
    "        acti = np.dot(weight, layer)\n",
    "        return self.activation(acti)\n",
    "    \n",
    "    #Instance method that returns the gradient signal for a certain training case \n",
    "    def _gradient(self, err, output_out, input_in):\n",
    "        return np.dot(err*(output_out)*(1-output_out), input_in)\n",
    "    \n",
    "    #Instance method that optimizes the neural network using stochastic gradient descent\n",
    "    def sgd_fit(self, in_list, target_list):\n",
    "        inputs = np.array(in_list, ndmin = 2).T\n",
    "        target = np.array(target_list, ndmin = 2).T\n",
    "        \n",
    "        outputs = [inputs]\n",
    "        for weight in self.weights: \n",
    "            outputs.append(self._forward(weight, outputs[-1]))\n",
    "        \n",
    "        error_out = target-outputs[-1]\n",
    "        errors = [error_out]\n",
    "        for idx in range(len(self.weights)-1, 0, -1):\n",
    "            errors.append(np.dot(self.weights[idx].T, errors[-1]))\n",
    "        errors.reverse()\n",
    "        \n",
    "        for idx in range(len(self.weights)):\n",
    "            self.weights[idx] += self.learning_rate*self._gradient(errors[idx], outputs[idx+1], outputs[idx].T)\n",
    "    \n",
    "    #Instance method that saves the sum of all gradients within a single epoch for batch gradient descent\n",
    "    def gd_fit(self, in_list, target_list):\n",
    "        inputs = np.array(in_list, ndmin = 2).T\n",
    "        target = np.array(target_list, ndmin = 2).T\n",
    "        \n",
    "        outputs = [inputs]\n",
    "        for weight in self.weights: \n",
    "            outputs.append(self._forward(weight, outputs[-1]))\n",
    "        \n",
    "        error_out = target-outputs[-1]\n",
    "        errors = [error_out]\n",
    "        for idx in range(len(self.weights)-1, 0, -1):\n",
    "            errors.append(np.dot(self.weights[idx].T, errors[-1]))\n",
    "        errors.reverse()\n",
    "        \n",
    "        for idx in range(len(self.gd_saved_weights)):\n",
    "            self.gd_saved_weights[idx] += self._gradient(errors[idx], outputs[idx+1], outputs[idx].T)\n",
    "    \n",
    "    #Instance method that updates the weights with the saved sums of all gradients in batch gradient descent\n",
    "    def gd_update(self, numberOfSamples):\n",
    "        for idx in range(len(self.gd_saved_weights)): \n",
    "            self.weights[idx] += self.learning_rate*copy.deepcopy(self.gd_saved_weights[idx]/numberOfSamples)\n",
    "            \n",
    "        self.gd_saved_weights = []\n",
    "        for idx in range(len(self.nodes)-1):\n",
    "            self.gd_saved_weights.append(np.zeros((self.nodes[idx+1], self.nodes[idx])))"
   ]
  },
  {
   "cell_type": "code",
   "execution_count": 3,
   "metadata": {},
   "outputs": [],
   "source": [
    "#Function that optimizes a neural network w/ stochastic gradient descent\n",
    "def sgd_train(testNN, X_train, Y_train, epoch, counter): \n",
    "    for b in range(epoch):\n",
    "        print(\"iteration = \", b)\n",
    "        for idx in range(len(X_train)):\n",
    "            y = X_train[idx]\n",
    "            x = np.full(numberOfClass, 0.01)\n",
    "            x[int(Y_train[idx])] = 0.99\n",
    "            placeholder = np.array(y, dtype=float)\n",
    "            placeholder = placeholder/255.0 * 0.99 + 0.01\n",
    "            testNN.sgd_fit(placeholder, x)\n",
    "        if((b+1)%counter == 0):\n",
    "            training_percentage = findPercentage(X_train, Y_train)\n",
    "            test_percentage = findPercentage(X_test, Y_test)\n",
    "            fout.write(\"%d, %.2f, %.2f\\n\" %(b+1, training_percentage, test_percentage))\n",
    "    print(\"== done ==\")"
   ]
  },
  {
   "cell_type": "code",
   "execution_count": 4,
   "metadata": {},
   "outputs": [],
   "source": [
    "#Function that optimizes a neural network w/ batch gradient descent\n",
    "def gd_train(testNN, X_train, Y_train, epoch, counter):\n",
    "    for b in range(epoch):\n",
    "        print(\"iteration = \", b)\n",
    "        for image, answer in zip(X_train, Y_train):\n",
    "            y = image\n",
    "            x = np.full(numberOfClass, 0.01)\n",
    "            x[answer] = 0.99\n",
    "            placeholder = np.array(y, dtype=float)\n",
    "            placeholder = placeholder/255.0 * 0.99 + 0.01\n",
    "            testNN.gd_fit(placeholder, x)\n",
    "        testNN.gd_update(len(Y_train))\n",
    "        if((b+1)%counter == 0):\n",
    "            training_percentage = findPercentage(X_train, Y_train)\n",
    "            test_percentage = findPercentage(X_test, Y_test)\n",
    "            fout.write(\"%d, %.2f, %.2f\\n\" %(b+1, training_percentage, test_percentage))\n",
    "    print(\"== done ==\")"
   ]
  },
  {
   "cell_type": "code",
   "execution_count": 5,
   "metadata": {},
   "outputs": [],
   "source": [
    "#Function that optimizes the neural network w/ mini batch gradient descent\n",
    "def mini_batch_train(testNN, X_train, Y_train, epoch, batch_size, counter):\n",
    "    #MNIST is shuffled.\n",
    "    for b in range(epoch):\n",
    "        print(\"iteration = \", b)\n",
    "        batch_counter = 0\n",
    "        for image, answer in zip(X_train, Y_train):\n",
    "            batch_counter = batch_counter + 1\n",
    "            y = image\n",
    "            x = np.full(numberOfClass, 0.01)\n",
    "            x[answer] = 0.99\n",
    "            placeholder = np.array(y, dtype=float)\n",
    "            placeholder = placeholder/255.0 * 0.99 + 0.01\n",
    "            testNN.gd_fit(placeholder, x)\n",
    "            if(batch_counter == batch_size):\n",
    "                testNN.gd_update(batch_counter)\n",
    "                batch_counter = 0\n",
    "        if batch_counter != 0:\n",
    "            testNN.gd_update(batch_counter)\n",
    "        if((b+1)%counter == 0):\n",
    "            training_percentage = findPercentage(X_train, Y_train)\n",
    "            test_percentage = findPercentage(X_test, Y_test)\n",
    "            fout.write(\"%d, %.2f, %.2f\\n\" %(b+1, training_percentage, test_percentage))\n",
    "    print(\"== done ==\")"
   ]
  },
  {
   "cell_type": "code",
   "execution_count": 6,
   "metadata": {},
   "outputs": [],
   "source": [
    "#mini-batch with small changes (not important)\n",
    "def dy_mini_batch_train(testNN, X_train, Y_train, epoch, counter):\n",
    "    #MNIST is shuffled.\n",
    "    #mini_batch is dynamic in each epoch\n",
    "    batch_size = 1\n",
    "    for b in range(epoch):\n",
    "        print(\"iteration = \", b)\n",
    "        batch_counter = 0\n",
    "        for image, answer in zip(X_train, Y_train):\n",
    "            batch_counter = batch_counter + 1\n",
    "            y = image\n",
    "            x = np.full(numberOfClass, 0.01)\n",
    "            x[answer] = 0.99\n",
    "            placeholder = np.array(y, dtype=float)\n",
    "            placeholder = placeholder/255.0 * 0.99 + 0.01\n",
    "            testNN.gd_fit(placeholder, x)\n",
    "            if(batch_counter == batch_size):\n",
    "                testNN.gd_update(batch_counter)\n",
    "                batch_counter = 0\n",
    "                batch_size = batch_size*2\n",
    "        if batch_counter != 0:\n",
    "            testNN.gd_update(batch_counter)\n",
    "        if((b+1)%counter == 0):\n",
    "            training_percentage = findPercentage(X_train, Y_train)\n",
    "            test_percentage = findPercentage(X_test, Y_test)\n",
    "            fout.write(\"%d, %.2f, %.2f\\n\" %(b+1, training_percentage, test_percentage))\n",
    "    print(\"== done ==\")"
   ]
  },
  {
   "cell_type": "code",
   "execution_count": 7,
   "metadata": {},
   "outputs": [],
   "source": [
    "#mini-batch with small changes (not important)\n",
    "def dy_mini_batch_train_V2(testNN, X_train, Y_train, epoch, counter):\n",
    "    #MNIST is shuffled.\n",
    "    #mini_batch is dynamic during iteration\n",
    "    batch_size = 1\n",
    "    for b in range(epoch):\n",
    "        print(\"iteration = \", b)\n",
    "        batch_counter = 0\n",
    "        for image, answer in zip(X_train, Y_train):\n",
    "            batch_counter = batch_counter + 1\n",
    "            y = image\n",
    "            x = np.full(numberOfClass, 0.01)\n",
    "            x[answer] = 0.99\n",
    "            placeholder = np.array(y, dtype=float)\n",
    "            placeholder = placeholder/255.0 * 0.99 + 0.01\n",
    "            testNN.gd_fit(placeholder, x)\n",
    "            if(batch_counter == batch_size):\n",
    "                testNN.gd_update(batch_counter)\n",
    "                batch_counter = 0\n",
    "        batch_size = batch_size*2\n",
    "        if batch_counter != 0:\n",
    "            testNN.gd_update(batch_counter)\n",
    "        if((b+1)%counter == 0):\n",
    "            training_percentage = findPercentage(X_train, Y_train)\n",
    "            test_percentage = findPercentage(X_test, Y_test)\n",
    "            fout.write(\"%d, %.2f, %.2f\\n\" %(b+1, training_percentage, test_percentage))\n",
    "    print(\"== done ==\")"
   ]
  },
  {
   "cell_type": "code",
   "execution_count": 8,
   "metadata": {},
   "outputs": [],
   "source": [
    "def sigmoid_func(lower, upper, x_val):\n",
    "    sigmoid = (upper-lower)*1.0/(1.0+np.exp(-x_val))+lower\n",
    "    return sigmoid"
   ]
  },
  {
   "cell_type": "code",
   "execution_count": 9,
   "metadata": {},
   "outputs": [],
   "source": [
    "#Function used to derive accuracy of the neural network using the test cases\n",
    "def findPercentage(X_test, Y_test):\n",
    "    denominator = 0\n",
    "    numerator = 0\n",
    "    for y, ans in zip(X_test, Y_test):\n",
    "        target = int(ans)\n",
    "        placeholder = np.array(y, dtype=float)\n",
    "        placeholder = placeholder/255.0 * 0.99 + 0.01\n",
    "        finalPrediction = testNN.predict(placeholder)\n",
    "        save = np.argmax(finalPrediction)\n",
    "\n",
    "        if(save == target):\n",
    "            numerator+=1\n",
    "        else:\n",
    "            pass\n",
    "            #print(\"index: \", idx)\n",
    "            #print(\"result: \", save)\n",
    "            #print(\"target: \", target)\n",
    "\n",
    "    success_rate = numerator/len(X_test)\n",
    "    return success_rate\n",
    "    print(\"success_rate\", success_rate)"
   ]
  },
  {
   "cell_type": "code",
   "execution_count": 10,
   "metadata": {},
   "outputs": [
    {
     "name": "stdout",
     "output_type": "stream",
     "text": [
      "learning rate 0.01\n",
      "iteration =  0\n",
      "iteration =  1\n",
      "iteration =  2\n",
      "iteration =  3\n",
      "iteration =  4\n",
      "== done ==\n",
      "iteration =  0\n",
      "== done ==\n",
      "training percentage 0.8024666666666667 test percentage 0.7893\n"
     ]
    }
   ],
   "source": [
    "#record performance on a separate file called \"result.txt\"\n",
    "fout = open('result.txt', 'w')\n",
    "fout.write(\"epoch, rate of training, rate of test\\n\")\n",
    "learningRate = [0.01]\n",
    "for lrate in learningRate:\n",
    "    #reset random values to arbitrary\n",
    "    np.random.seed(100)\n",
    "    testNN = myNeuralNet([784, 256, 128, 100, 10], lrate) #0.3\n",
    "    print(\"learning rate\", lrate)\n",
    "    \n",
    "    #sgd_train(testNN, X_train, Y_train, epoch, counter)\n",
    "    \n",
    "    #initial training set\n",
    "    sgd_train(testNN, X_train[:10000], Y_train[:10000], 5, 1)\n",
    "    \n",
    "    #data stream \n",
    "    sgd_train(testNN, X_train[10000:], Y_train[10000:], 1, 1)\n",
    "    \n",
    "    training_percentage = findPercentage(X_train, Y_train)\n",
    "    test_percentage = findPercentage(X_test, Y_test)\n",
    "    print(\"training percentage\", training_percentage, \"test percentage\", test_percentage)\n",
    "fout.close()"
   ]
  },
  {
   "cell_type": "code",
   "execution_count": 31,
   "metadata": {},
   "outputs": [
    {
     "name": "stdout",
     "output_type": "stream",
     "text": [
      "0\n"
     ]
    },
    {
     "data": {
      "text/plain": [
       "<matplotlib.image.AxesImage at 0x113c084d0>"
      ]
     },
     "execution_count": 31,
     "metadata": {},
     "output_type": "execute_result"
    },
    {
     "data": {
      "image/png": "[encoded data removed]",
      "text/plain": [
       "<Figure size 432x288 with 1 Axes>"
      ]
     },
     "metadata": {
      "needs_background": "light"
     },
     "output_type": "display_data"
    }
   ],
   "source": [
    "#reference:\n",
    "#Label / Description\n",
    "#0 => T-shirt/top\n",
    "#1 => Trouser\n",
    "#2 => Pullover\n",
    "#3 => Dress\n",
    "#4 => Coat\n",
    "#5 => Sandal\n",
    "#6 => Shirt\n",
    "#7 => Sneaker\n",
    "#8 => Bag\n",
    "#9 => Ankle boot\n",
    "\n",
    "test = 10027\n",
    "print(Y_train[test])\n",
    "plt.imshow(X_train[test].reshape(28,28), cmap='Greys', interpolation='None')"
   ]
  }
 ],
 "metadata": {
  "kernelspec": {
   "display_name": "Python 3",
   "language": "python",
   "name": "python3"
  },
  "language_info": {
   "codemirror_mode": {
    "name": "ipython",
    "version": 3
   },
   "file_extension": ".py",
   "mimetype": "text/x-python",
   "name": "python",
   "nbconvert_exporter": "python",
   "pygments_lexer": "ipython3",
   "version": "3.7.4"
  }
 },
 "nbformat": 4,
 "nbformat_minor": 4
}
